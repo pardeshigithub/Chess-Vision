{
  "nbformat": 4,
  "nbformat_minor": 0,
  "metadata": {
    "colab": {
      "provenance": [],
      "include_colab_link": true
    },
    "kernelspec": {
      "name": "python3",
      "display_name": "Python 3"
    },
    "language_info": {
      "name": "python"
    }
  },
  "cells": [
    {
      "cell_type": "markdown",
      "metadata": {
        "id": "view-in-github",
        "colab_type": "text"
      },
      "source": [
        "<a href=\"https://colab.research.google.com/github/pardeshigithub/Chess-Vision/blob/main/Copy_of_GIS_1.ipynb\" target=\"_parent\"><img src=\"https://colab.research.google.com/assets/colab-badge.svg\" alt=\"Open In Colab\"/></a>"
      ]
    },
    {
      "cell_type": "code",
      "execution_count": null,
      "metadata": {
        "id": "3Sb9gZBnANWV"
      },
      "outputs": [],
      "source": [
        "# prompt: GIS system using folium\n",
        "\n",
        "import folium\n",
        "\n",
        "# Create a map object with Folium\n",
        "map = folium.Map(location=[40, -95], zoom_start=4)\n",
        "\n",
        "# Add a marker for a specific location\n",
        "folium.Marker(location=[40, -95], popup='Kansas City').add_to(map)\n",
        "\n",
        "# Display the map\n",
        "map\n"
      ]
    },
    {
      "cell_type": "code",
      "source": [
        "import pandas as pd\n",
        "import geopandas as gpd\n",
        "import numpy as np\n",
        "import folium\n",
        "from folium import Marker\n",
        "import warnings\n",
        "warnings.filterwarnings('ignore')"
      ],
      "metadata": {
        "id": "Lu2GCC58okLj"
      },
      "execution_count": 27,
      "outputs": []
    },
    {
      "cell_type": "code",
      "source": [
        "from geopy.geocoders import Nominatim\n",
        "# In the code cell above, Nominatim refers to the geocoding software that will be used to generate locations.\n"
      ],
      "metadata": {
        "id": "mqmYQ9i5pU-a"
      },
      "execution_count": 28,
      "outputs": []
    },
    {
      "cell_type": "markdown",
      "source": [
        "Geocoding\n",
        "Geocoding is the process of converting the name of a place or an address to a location on a map. If you have ever looked up a geographic location based on a landmark description with Google Maps, Bing Maps, or Baidu Maps, for instance, then you have used a geocoder!"
      ],
      "metadata": {
        "id": "rdqVG2VAqrdG"
      }
    },
    {
      "cell_type": "code",
      "source": [
        "geolocator = Nominatim(user_agent=\"kaggle_learn\")\n",
        "location = geolocator.geocode(\"Aarya Residency Pune\")\n",
        "print(location.point)\n",
        "print(location.address)"
      ],
      "metadata": {
        "colab": {
          "base_uri": "https://localhost:8080/"
        },
        "id": "rC7t4kkWqyBa",
        "outputId": "8b4e1d34-2cad-45d7-c28d-d2c881ccacfa"
      },
      "execution_count": 29,
      "outputs": [
        {
          "output_type": "stream",
          "name": "stdout",
          "text": [
            "18 28m 11.4773s N, 73 48m 38.9326s E\n",
            "Aarya Residency, Prayeja City Road, Manik Baug, Pune City, Pune, Maharashtra, 411041, India\n"
          ]
        }
      ]
    },
    {
      "cell_type": "code",
      "source": [
        "# read database\n",
        "society = pd.read_csv(\"/content/sample_data/Society3.csv\")\n",
        "society.head()\n",
        "# Display the map\n",
        "# Create a map object with Folium\n",
        "map = folium.Map(location=[154, 65], zoom_start=2)\n",
        "m"
      ],
      "metadata": {
        "colab": {
          "base_uri": "https://localhost:8080/",
          "height": 594
        },
        "id": "Ni4_-b1QrTQh",
        "outputId": "33117dd8-b1c1-454b-a023-64e71ff53639"
      },
      "execution_count": 42,
      "outputs": [
        {
          "output_type": "execute_result",
          "data": {
            "text/plain": [
              "<folium.folium.Map at 0x7a8149f879d0>"
            ],
            "text/html": [
              "<div style=\"width:100%;\"><div style=\"position:relative;width:100%;height:0;padding-bottom:60%;\"><span style=\"color:#565656\">Make this Notebook Trusted to load map: File -> Trust Notebook</span><iframe srcdoc=\"&lt;!DOCTYPE html&gt;\n",
              "&lt;html&gt;\n",
              "&lt;head&gt;\n",
              "    \n",
              "    &lt;meta http-equiv=&quot;content-type&quot; content=&quot;text/html; charset=UTF-8&quot; /&gt;\n",
              "    \n",
              "        &lt;script&gt;\n",
              "            L_NO_TOUCH = false;\n",
              "            L_DISABLE_3D = false;\n",
              "        &lt;/script&gt;\n",
              "    \n",
              "    &lt;style&gt;html, body {width: 100%;height: 100%;margin: 0;padding: 0;}&lt;/style&gt;\n",
              "    &lt;style&gt;#map {position:absolute;top:0;bottom:0;right:0;left:0;}&lt;/style&gt;\n",
              "    &lt;script src=&quot;https://cdn.jsdelivr.net/npm/leaflet@1.9.3/dist/leaflet.js&quot;&gt;&lt;/script&gt;\n",
              "    &lt;script src=&quot;https://code.jquery.com/jquery-1.12.4.min.js&quot;&gt;&lt;/script&gt;\n",
              "    &lt;script src=&quot;https://cdn.jsdelivr.net/npm/bootstrap@5.2.2/dist/js/bootstrap.bundle.min.js&quot;&gt;&lt;/script&gt;\n",
              "    &lt;script src=&quot;https://cdnjs.cloudflare.com/ajax/libs/Leaflet.awesome-markers/2.0.2/leaflet.awesome-markers.js&quot;&gt;&lt;/script&gt;\n",
              "    &lt;link rel=&quot;stylesheet&quot; href=&quot;https://cdn.jsdelivr.net/npm/leaflet@1.9.3/dist/leaflet.css&quot;/&gt;\n",
              "    &lt;link rel=&quot;stylesheet&quot; href=&quot;https://cdn.jsdelivr.net/npm/bootstrap@5.2.2/dist/css/bootstrap.min.css&quot;/&gt;\n",
              "    &lt;link rel=&quot;stylesheet&quot; href=&quot;https://netdna.bootstrapcdn.com/bootstrap/3.0.0/css/bootstrap.min.css&quot;/&gt;\n",
              "    &lt;link rel=&quot;stylesheet&quot; href=&quot;https://cdn.jsdelivr.net/npm/@fortawesome/fontawesome-free@6.2.0/css/all.min.css&quot;/&gt;\n",
              "    &lt;link rel=&quot;stylesheet&quot; href=&quot;https://cdnjs.cloudflare.com/ajax/libs/Leaflet.awesome-markers/2.0.2/leaflet.awesome-markers.css&quot;/&gt;\n",
              "    &lt;link rel=&quot;stylesheet&quot; href=&quot;https://cdn.jsdelivr.net/gh/python-visualization/folium/folium/templates/leaflet.awesome.rotate.min.css&quot;/&gt;\n",
              "    \n",
              "            &lt;meta name=&quot;viewport&quot; content=&quot;width=device-width,\n",
              "                initial-scale=1.0, maximum-scale=1.0, user-scalable=no&quot; /&gt;\n",
              "            &lt;style&gt;\n",
              "                #map_947264d926e0a61a7dec649763ebfb38 {\n",
              "                    position: relative;\n",
              "                    width: 100.0%;\n",
              "                    height: 100.0%;\n",
              "                    left: 0.0%;\n",
              "                    top: 0.0%;\n",
              "                }\n",
              "                .leaflet-container { font-size: 1rem; }\n",
              "            &lt;/style&gt;\n",
              "        \n",
              "&lt;/head&gt;\n",
              "&lt;body&gt;\n",
              "    \n",
              "    \n",
              "            &lt;div class=&quot;folium-map&quot; id=&quot;map_947264d926e0a61a7dec649763ebfb38&quot; &gt;&lt;/div&gt;\n",
              "        \n",
              "&lt;/body&gt;\n",
              "&lt;script&gt;\n",
              "    \n",
              "    \n",
              "            var map_947264d926e0a61a7dec649763ebfb38 = L.map(\n",
              "                &quot;map_947264d926e0a61a7dec649763ebfb38&quot;,\n",
              "                {\n",
              "                    center: [54.0, 15.0],\n",
              "                    crs: L.CRS.EPSG3857,\n",
              "                    zoom: 2,\n",
              "                    zoomControl: true,\n",
              "                    preferCanvas: false,\n",
              "                }\n",
              "            );\n",
              "\n",
              "            \n",
              "\n",
              "        \n",
              "    \n",
              "            var tile_layer_a412bc4badb699127e811d60a8ef7068 = L.tileLayer(\n",
              "                &quot;https://{s}.tile.openstreetmap.org/{z}/{x}/{y}.png&quot;,\n",
              "                {&quot;attribution&quot;: &quot;Data by \\u0026copy; \\u003ca target=\\&quot;_blank\\&quot; href=\\&quot;http://openstreetmap.org\\&quot;\\u003eOpenStreetMap\\u003c/a\\u003e, under \\u003ca target=\\&quot;_blank\\&quot; href=\\&quot;http://www.openstreetmap.org/copyright\\&quot;\\u003eODbL\\u003c/a\\u003e.&quot;, &quot;detectRetina&quot;: false, &quot;maxNativeZoom&quot;: 18, &quot;maxZoom&quot;: 18, &quot;minZoom&quot;: 0, &quot;noWrap&quot;: false, &quot;opacity&quot;: 1, &quot;subdomains&quot;: &quot;abc&quot;, &quot;tms&quot;: false}\n",
              "            ).addTo(map_947264d926e0a61a7dec649763ebfb38);\n",
              "        \n",
              "    \n",
              "            var marker_f3d4db3ec999f5670314d1faeb5fc244 = L.marker(\n",
              "                [18.47001, 73.810844],\n",
              "                {}\n",
              "            ).addTo(map_947264d926e0a61a7dec649763ebfb38);\n",
              "        \n",
              "    \n",
              "        var popup_27ba6c898ec5ad883eb818e0602828af = L.popup({&quot;maxWidth&quot;: &quot;100%&quot;});\n",
              "\n",
              "        \n",
              "            \n",
              "                var html_6a722fb882ac9c26bcfc16c04ff73b48 = $(`&lt;div id=&quot;html_6a722fb882ac9c26bcfc16c04ff73b48&quot; style=&quot;width: 100.0%; height: 100.0%;&quot;&gt;Aaary Residency Pune&lt;/div&gt;`)[0];\n",
              "                popup_27ba6c898ec5ad883eb818e0602828af.setContent(html_6a722fb882ac9c26bcfc16c04ff73b48);\n",
              "            \n",
              "        \n",
              "\n",
              "        marker_f3d4db3ec999f5670314d1faeb5fc244.bindPopup(popup_27ba6c898ec5ad883eb818e0602828af)\n",
              "        ;\n",
              "\n",
              "        \n",
              "    \n",
              "    \n",
              "            var marker_49815b66133c301f8763bedb873ad8f3 = L.marker(\n",
              "                [18.46497, 73.81248],\n",
              "                {}\n",
              "            ).addTo(map_947264d926e0a61a7dec649763ebfb38);\n",
              "        \n",
              "    \n",
              "        var popup_98ae25a9e8be1302a6ec1d034e9c4733 = L.popup({&quot;maxWidth&quot;: &quot;100%&quot;});\n",
              "\n",
              "        \n",
              "            \n",
              "                var html_2aae3ddfc99a13a102b2bbe7e4d99cb3 = $(`&lt;div id=&quot;html_2aae3ddfc99a13a102b2bbe7e4d99cb3&quot; style=&quot;width: 100.0%; height: 100.0%;&quot;&gt;Prayeja city Pune&lt;/div&gt;`)[0];\n",
              "                popup_98ae25a9e8be1302a6ec1d034e9c4733.setContent(html_2aae3ddfc99a13a102b2bbe7e4d99cb3);\n",
              "            \n",
              "        \n",
              "\n",
              "        marker_49815b66133c301f8763bedb873ad8f3.bindPopup(popup_98ae25a9e8be1302a6ec1d034e9c4733)\n",
              "        ;\n",
              "\n",
              "        \n",
              "    \n",
              "&lt;/script&gt;\n",
              "&lt;/html&gt;\" style=\"position:absolute;width:100%;height:100%;left:0;top:0;border:none !important;\" allowfullscreen webkitallowfullscreen mozallowfullscreen></iframe></div></div>"
            ]
          },
          "metadata": {},
          "execution_count": 42
        }
      ]
    },
    {
      "cell_type": "code",
      "source": [
        "\n",
        "# Display the map\n",
        "m"
      ],
      "metadata": {
        "id": "ZKNblTSwMSCY"
      },
      "execution_count": null,
      "outputs": []
    },
    {
      "cell_type": "code",
      "source": [
        "from geopy.geocoders import Nominatim\n",
        "geolocator = Nominatim(user_agent=\"Pune\")\n",
        "location = geolocator.geocode(\"Aarya Residency\")\n",
        "print(location.point)\n",
        "print(location.address)"
      ],
      "metadata": {
        "id": "8AfDzMKBeuYj",
        "outputId": "401c2535-b964-4386-9507-40038a70c1c2",
        "colab": {
          "base_uri": "https://localhost:8080/"
        }
      },
      "execution_count": 32,
      "outputs": [
        {
          "output_type": "stream",
          "name": "stdout",
          "text": [
            "18 28m 11.4773s N, 73 48m 38.9326s E\n",
            "Aarya Residency, Prayeja City Road, Manik Baug, Pune City, Pune, Maharashtra, 411041, India\n"
          ]
        }
      ]
    },
    {
      "cell_type": "code",
      "source": [
        "# convert locatin to lat long\n",
        "# importing geopy library and Nominatim class\n",
        "from geopy.geocoders import Nominatim\n",
        "\n",
        "# calling the Nominatim tool and create Nominatim class\n",
        "loc = Nominatim(user_agent=\"Geopy Library\")\n",
        "\n",
        "# entering the location name\n",
        "# getLoc = loc.geocode(\"Aarya Residency\")\n",
        "getLoc = loc.geocode(\"Kothrud Pune\")\n",
        "\n",
        "# printing address\n",
        "print(getLoc.address)\n",
        "print(\"GPS Location : \",location.point)\n",
        "# printing latitude and longitude\n",
        "print(\"Latitude = \", getLoc.latitude)\n",
        "print(\"Longitude = \", getLoc.longitude)"
      ],
      "metadata": {
        "colab": {
          "base_uri": "https://localhost:8080/"
        },
        "id": "4DYixiPKS6MH",
        "outputId": "8f0a78b5-5168-4d7a-9c7b-e63fd63c0736"
      },
      "execution_count": 33,
      "outputs": [
        {
          "output_type": "stream",
          "name": "stdout",
          "text": [
            "Kothrud, Pune City, Pune, Maharashtra, 411038, India\n",
            "GPS Location :  18 28m 11.4773s N, 73 48m 38.9326s E\n",
            "Latitude =  18.5038889\n",
            "Longitude =  73.807673\n"
          ]
        }
      ]
    },
    {
      "cell_type": "code",
      "source": [
        "# for exact lat long https://www.latlong.net/\n",
        "#  https://github.com/afourmy/pyGISS.git   A lightweight GIS Software in less than 100 lines of code\n",
        "# https://www.kaggle.com/code/alexisbcook/manipulating-geospatial-data/tutorial"
      ],
      "metadata": {
        "id": "ZmR4b8K7bGDW"
      },
      "execution_count": null,
      "outputs": []
    }
  ]
}